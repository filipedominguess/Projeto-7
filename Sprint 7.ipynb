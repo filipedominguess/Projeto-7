{
 "cells": [
  {
   "cell_type": "markdown",
   "id": "684de16a",
   "metadata": {},
   "source": [
    "**Inicialização**"
   ]
  },
  {
   "cell_type": "code",
   "execution_count": 1,
   "id": "ac99c435",
   "metadata": {},
   "outputs": [],
   "source": [
    "# importando bibliotecas \n",
    "import pandas as pd\n",
    "from sklearn.model_selection import train_test_split\n",
    "from sklearn.linear_model import LogisticRegression\n",
    "from sklearn.tree import DecisionTreeClassifier\n",
    "from sklearn.ensemble import RandomForestClassifier"
   ]
  },
  {
   "cell_type": "code",
   "execution_count": 2,
   "id": "c1ba06ff",
   "metadata": {},
   "outputs": [],
   "source": [
    "# fazendo a leitura do arquivo csv\n",
    "try:\n",
    "    df = pd.read_csv('Downloads/users_behavior.csv')\n",
    "except:\n",
    "    df = pd.read_csv('/datasets/users_behavior.csv')"
   ]
  },
  {
   "cell_type": "markdown",
   "id": "15c9242b",
   "metadata": {},
   "source": [
    "**Analisando os dados**"
   ]
  },
  {
   "cell_type": "code",
   "execution_count": 3,
   "id": "167febd0",
   "metadata": {},
   "outputs": [
    {
     "data": {
      "text/html": [
       "<div>\n",
       "<style scoped>\n",
       "    .dataframe tbody tr th:only-of-type {\n",
       "        vertical-align: middle;\n",
       "    }\n",
       "\n",
       "    .dataframe tbody tr th {\n",
       "        vertical-align: top;\n",
       "    }\n",
       "\n",
       "    .dataframe thead th {\n",
       "        text-align: right;\n",
       "    }\n",
       "</style>\n",
       "<table border=\"1\" class=\"dataframe\">\n",
       "  <thead>\n",
       "    <tr style=\"text-align: right;\">\n",
       "      <th></th>\n",
       "      <th>calls</th>\n",
       "      <th>minutes</th>\n",
       "      <th>messages</th>\n",
       "      <th>mb_used</th>\n",
       "      <th>is_ultra</th>\n",
       "    </tr>\n",
       "  </thead>\n",
       "  <tbody>\n",
       "    <tr>\n",
       "      <th>0</th>\n",
       "      <td>40.0</td>\n",
       "      <td>311.90</td>\n",
       "      <td>83.0</td>\n",
       "      <td>19915.42</td>\n",
       "      <td>0</td>\n",
       "    </tr>\n",
       "    <tr>\n",
       "      <th>1</th>\n",
       "      <td>85.0</td>\n",
       "      <td>516.75</td>\n",
       "      <td>56.0</td>\n",
       "      <td>22696.96</td>\n",
       "      <td>0</td>\n",
       "    </tr>\n",
       "    <tr>\n",
       "      <th>2</th>\n",
       "      <td>77.0</td>\n",
       "      <td>467.66</td>\n",
       "      <td>86.0</td>\n",
       "      <td>21060.45</td>\n",
       "      <td>0</td>\n",
       "    </tr>\n",
       "    <tr>\n",
       "      <th>3</th>\n",
       "      <td>106.0</td>\n",
       "      <td>745.53</td>\n",
       "      <td>81.0</td>\n",
       "      <td>8437.39</td>\n",
       "      <td>1</td>\n",
       "    </tr>\n",
       "    <tr>\n",
       "      <th>4</th>\n",
       "      <td>66.0</td>\n",
       "      <td>418.74</td>\n",
       "      <td>1.0</td>\n",
       "      <td>14502.75</td>\n",
       "      <td>0</td>\n",
       "    </tr>\n",
       "  </tbody>\n",
       "</table>\n",
       "</div>"
      ],
      "text/plain": [
       "   calls  minutes  messages   mb_used  is_ultra\n",
       "0   40.0   311.90      83.0  19915.42         0\n",
       "1   85.0   516.75      56.0  22696.96         0\n",
       "2   77.0   467.66      86.0  21060.45         0\n",
       "3  106.0   745.53      81.0   8437.39         1\n",
       "4   66.0   418.74       1.0  14502.75         0"
      ]
     },
     "execution_count": 3,
     "metadata": {},
     "output_type": "execute_result"
    }
   ],
   "source": [
    "# analisando 5 primeiras linhas do dataframe\n",
    "df.head()"
   ]
  },
  {
   "cell_type": "code",
   "execution_count": 4,
   "id": "d456bca9",
   "metadata": {},
   "outputs": [
    {
     "data": {
      "text/html": [
       "<div>\n",
       "<style scoped>\n",
       "    .dataframe tbody tr th:only-of-type {\n",
       "        vertical-align: middle;\n",
       "    }\n",
       "\n",
       "    .dataframe tbody tr th {\n",
       "        vertical-align: top;\n",
       "    }\n",
       "\n",
       "    .dataframe thead th {\n",
       "        text-align: right;\n",
       "    }\n",
       "</style>\n",
       "<table border=\"1\" class=\"dataframe\">\n",
       "  <thead>\n",
       "    <tr style=\"text-align: right;\">\n",
       "      <th></th>\n",
       "      <th>calls</th>\n",
       "      <th>minutes</th>\n",
       "      <th>messages</th>\n",
       "      <th>mb_used</th>\n",
       "      <th>is_ultra</th>\n",
       "    </tr>\n",
       "  </thead>\n",
       "  <tbody>\n",
       "    <tr>\n",
       "      <th>3209</th>\n",
       "      <td>122.0</td>\n",
       "      <td>910.98</td>\n",
       "      <td>20.0</td>\n",
       "      <td>35124.90</td>\n",
       "      <td>1</td>\n",
       "    </tr>\n",
       "    <tr>\n",
       "      <th>3210</th>\n",
       "      <td>25.0</td>\n",
       "      <td>190.36</td>\n",
       "      <td>0.0</td>\n",
       "      <td>3275.61</td>\n",
       "      <td>0</td>\n",
       "    </tr>\n",
       "    <tr>\n",
       "      <th>3211</th>\n",
       "      <td>97.0</td>\n",
       "      <td>634.44</td>\n",
       "      <td>70.0</td>\n",
       "      <td>13974.06</td>\n",
       "      <td>0</td>\n",
       "    </tr>\n",
       "    <tr>\n",
       "      <th>3212</th>\n",
       "      <td>64.0</td>\n",
       "      <td>462.32</td>\n",
       "      <td>90.0</td>\n",
       "      <td>31239.78</td>\n",
       "      <td>0</td>\n",
       "    </tr>\n",
       "    <tr>\n",
       "      <th>3213</th>\n",
       "      <td>80.0</td>\n",
       "      <td>566.09</td>\n",
       "      <td>6.0</td>\n",
       "      <td>29480.52</td>\n",
       "      <td>1</td>\n",
       "    </tr>\n",
       "  </tbody>\n",
       "</table>\n",
       "</div>"
      ],
      "text/plain": [
       "      calls  minutes  messages   mb_used  is_ultra\n",
       "3209  122.0   910.98      20.0  35124.90         1\n",
       "3210   25.0   190.36       0.0   3275.61         0\n",
       "3211   97.0   634.44      70.0  13974.06         0\n",
       "3212   64.0   462.32      90.0  31239.78         0\n",
       "3213   80.0   566.09       6.0  29480.52         1"
      ]
     },
     "execution_count": 4,
     "metadata": {},
     "output_type": "execute_result"
    }
   ],
   "source": [
    "# analisando 5 ultimas linhas do dataframe\n",
    "df.tail()"
   ]
  },
  {
   "cell_type": "code",
   "execution_count": 5,
   "id": "3077384b",
   "metadata": {},
   "outputs": [
    {
     "name": "stdout",
     "output_type": "stream",
     "text": [
      "<class 'pandas.core.frame.DataFrame'>\n",
      "RangeIndex: 3214 entries, 0 to 3213\n",
      "Data columns (total 5 columns):\n",
      " #   Column    Non-Null Count  Dtype  \n",
      "---  ------    --------------  -----  \n",
      " 0   calls     3214 non-null   float64\n",
      " 1   minutes   3214 non-null   float64\n",
      " 2   messages  3214 non-null   float64\n",
      " 3   mb_used   3214 non-null   float64\n",
      " 4   is_ultra  3214 non-null   int64  \n",
      "dtypes: float64(4), int64(1)\n",
      "memory usage: 125.7 KB\n"
     ]
    }
   ],
   "source": [
    "# analisando informações do dataframe\n",
    "df.info()"
   ]
  },
  {
   "cell_type": "code",
   "execution_count": 6,
   "id": "bc0dc831",
   "metadata": {},
   "outputs": [
    {
     "data": {
      "text/plain": [
       "0"
      ]
     },
     "execution_count": 6,
     "metadata": {},
     "output_type": "execute_result"
    }
   ],
   "source": [
    "# verificando a quantidade de duplicatas\n",
    "df.duplicated().sum()"
   ]
  },
  {
   "cell_type": "markdown",
   "id": "0cff4543",
   "metadata": {},
   "source": [
    "**Dividindo os dados**"
   ]
  },
  {
   "cell_type": "code",
   "execution_count": 7,
   "id": "40e835c9",
   "metadata": {},
   "outputs": [],
   "source": [
    "# separando conjunto de caracteristicas do alvo\n",
    "features = df.drop('is_ultra', axis=1)\n",
    "target = df['is_ultra']\n",
    "\n",
    "# dividir os dados em treinamento e teste\n",
    "features_train, features_test, target_train, target_test = train_test_split(\n",
    "    features, target, test_size=0.25, random_state=12345)\n",
    "\n",
    "# dividir os dados de treinamento em treinamento e validação\n",
    "features_train, features_valid, target_train, target_valid = train_test_split(\n",
    "    features_train, target_train, test_size=0.25, random_state=12345)"
   ]
  },
  {
   "cell_type": "markdown",
   "id": "45c5a6fb",
   "metadata": {},
   "source": [
    "**Modelo - Regressão Logística**"
   ]
  },
  {
   "cell_type": "code",
   "execution_count": 8,
   "id": "de78eb1a",
   "metadata": {},
   "outputs": [
    {
     "name": "stdout",
     "output_type": "stream",
     "text": [
      "Acurácia de treinamento de 0.70\n",
      "Acurácia de validação de 0.68\n",
      "Acurácia de teste de 0.70\n"
     ]
    }
   ],
   "source": [
    "# criar modelo de regressão logística e ajustá-lo aos dados de treinamento\n",
    "model_logistic_regression = LogisticRegression(random_state=12345,\n",
    "                                               solver='liblinear')\n",
    "model_logistic_regression.fit(features_train, target_train)\n",
    "\n",
    "# avaliar o desempenho do modelo nos conjuntos de treinamento, validação e teste\n",
    "scores = {\n",
    "    'treinamento': model_logistic_regression.score(features_train,\n",
    "                                                   target_train),\n",
    "    'validação': model_logistic_regression.score(features_valid, target_valid),\n",
    "    'teste': model_logistic_regression.score(features_test, target_test)\n",
    "}\n",
    "\n",
    "# exibir as acurácias do modelo em cada conjunto de dados\n",
    "for conjunto, score in scores.items():\n",
    "    print(\n",
    "        f'Acurácia de {conjunto} de {score:.2f}'\n",
    "    )"
   ]
  },
  {
   "cell_type": "markdown",
   "id": "b7108587",
   "metadata": {},
   "source": [
    "**Modelo - Árvore de Decisão**"
   ]
  },
  {
   "cell_type": "code",
   "execution_count": 9,
   "id": "573756b4",
   "metadata": {},
   "outputs": [
    {
     "name": "stdout",
     "output_type": "stream",
     "text": [
      "A melhor profundidade é 3\n",
      "Acurácia de treinamento de 0.80\n",
      "Acurácia de validação de 0.79\n",
      "Acurácia de teste de 0.79\n"
     ]
    }
   ],
   "source": [
    "# define variáveis iniciais\n",
    "best_depth = 0\n",
    "best_score_train = 0.0\n",
    "best_score_valid = 0.0\n",
    "best_score_test = 0.0\n",
    "\n",
    "# loop para avaliar a performance do modelo em diferentes profundidades\n",
    "for depth in range(1, 20):\n",
    "    # cria modelo com profundidade atual do loop\n",
    "    model_decision_tree = DecisionTreeClassifier(random_state=12345,\n",
    "                                                 max_depth=depth)\n",
    "    # treina modelo\n",
    "    model_decision_tree.fit(features_train, target_train)\n",
    "\n",
    "    # avalia desempenho do modelo nos conjuntos de treinamento, validação e teste\n",
    "    score_train = model_decision_tree.score(features_train, target_train)\n",
    "    score_valid = model_decision_tree.score(features_valid, target_valid)\n",
    "    score_test = model_decision_tree.score(features_test, target_test)\n",
    "\n",
    "    # atualiza variáveis de melhor performance encontrada\n",
    "    if score_valid > best_score_valid:\n",
    "        best_depth = depth\n",
    "        best_score_train = score_train\n",
    "        best_score_valid = score_valid\n",
    "        best_score_test = score_test\n",
    "\n",
    "# imprime melhor profundidade e acurácias correspondentes\n",
    "print(\n",
    "    f\"A melhor profundidade é {best_depth}\\nAcurácia de treinamento de {best_score_train:.2f}\\nAcurácia de validação de {best_score_valid:.2f}\\nAcurácia de teste de {best_score_test:.2f}\"\n",
    ")"
   ]
  },
  {
   "cell_type": "markdown",
   "id": "d95c1870",
   "metadata": {},
   "source": [
    "**Modelo - Floresta Aleatória**"
   ]
  },
  {
   "cell_type": "code",
   "execution_count": 10,
   "id": "9fa7c63d",
   "metadata": {},
   "outputs": [
    {
     "name": "stdout",
     "output_type": "stream",
     "text": [
      "O melhor número de estimadores é 14\n",
      "Acurácia de treinamento de 0.99\n",
      "Acurácia de validação de 0.82\n",
      "Acurácia de teste de 0.78\n"
     ]
    }
   ],
   "source": [
    "# define variáveis iniciais\n",
    "best_est = 0\n",
    "best_score_train = 0.0\n",
    "best_score_valid = 0.0\n",
    "best_score_test = 0.0\n",
    "\n",
    "# loop para avaliar a performance do modelo em diferentes número de estimadores\n",
    "for est in range(1, 15):\n",
    "    # cria modelo com profundidade atual do loop\n",
    "    model_random_forest = RandomForestClassifier(random_state=12345,\n",
    "                                                 n_estimators=est)\n",
    "    # treina modelo\n",
    "    model_random_forest.fit(features_train, target_train)\n",
    "\n",
    "    # avalia desempenho do modelo nos conjuntos de treinamento, validação e teste\n",
    "    score_train = model_random_forest.score(features_train, target_train)\n",
    "    score_valid = model_random_forest.score(features_valid, target_valid)\n",
    "    score_test = model_random_forest.score(features_test, target_test)\n",
    "\n",
    "    # atualiza variáveis de melhor performance encontrada\n",
    "    if score_valid > best_score_valid:\n",
    "        best_est = est\n",
    "        best_score_train = score_train\n",
    "        best_score_valid = score_valid\n",
    "        best_score_test = score_test\n",
    "\n",
    "# imprime o melhor número de estimadores e acurácias correspondentes\n",
    "print(\n",
    "    f\"O melhor número de estimadores é {best_est}\\nAcurácia de treinamento de {best_score_train:.2f}\\nAcurácia de validação de {best_score_valid:.2f}\\nAcurácia de teste de {best_score_test:.2f}\"\n",
    ")"
   ]
  },
  {
   "cell_type": "markdown",
   "id": "cc0dd21a",
   "metadata": {},
   "source": [
    "**Conclusão**"
   ]
  },
  {
   "cell_type": "markdown",
   "id": "574b5fe1",
   "metadata": {},
   "source": [
    "Foram avaliados três modelos de classificação: Árvore de Decisão, Floresta Aleatória e Regressão Logística. A métrica utilizada para avaliação foi a acurácia, que indica a proporção de acertos do modelo em relação ao total de observações.\n",
    "\n",
    "Ao avaliar o tempo de processamento e a acurácia, o modelo que apresentou melhor desempenho foi a Árvore de Decisão, com acurácia de treinamento de 0.80, acurácia de validação de 0.79, acurácia de teste de 0.79.\n",
    "\n",
    "Em seguida, avaliando somente a acurácia, o modelo que apresentou melhor desempenho foi a Floresta Aleatória, com acurácia de treinamento de 0.99, acurácia de validação de 0.82, acurácia de teste de 0.78.\n",
    "\n",
    "Por fim, o modelo de Regressão Logística apresentou desempenho inferior aos outros dois modelos, com acurácia de treinamento de 0.70, acurácia de validação de 0.68, acurácia de teste de 0.70.\n",
    "\n",
    "Com base nesses resultados, recomenda-se o uso da Floresta Aleatória caso a prioridade seja a acurácia, ou a Árvore de Decisão caso o tempo de processamento também seja considerado relevante. O modelo de Regressão Logística não apresentou desempenho satisfatório nos dados avaliados."
   ]
  }
 ],
 "metadata": {
  "kernelspec": {
   "display_name": "Python 3 (ipykernel)",
   "language": "python",
   "name": "python3"
  },
  "language_info": {
   "codemirror_mode": {
    "name": "ipython",
    "version": 3
   },
   "file_extension": ".py",
   "mimetype": "text/x-python",
   "name": "python",
   "nbconvert_exporter": "python",
   "pygments_lexer": "ipython3",
   "version": "3.9.12"
  },
  "toc": {
   "base_numbering": 1,
   "nav_menu": {},
   "number_sections": true,
   "sideBar": true,
   "skip_h1_title": false,
   "title_cell": "Table of Contents",
   "title_sidebar": "Contents",
   "toc_cell": false,
   "toc_position": {},
   "toc_section_display": true,
   "toc_window_display": false
  },
  "varInspector": {
   "cols": {
    "lenName": 16,
    "lenType": 16,
    "lenVar": 40
   },
   "kernels_config": {
    "python": {
     "delete_cmd_postfix": "",
     "delete_cmd_prefix": "del ",
     "library": "var_list.py",
     "varRefreshCmd": "print(var_dic_list())"
    },
    "r": {
     "delete_cmd_postfix": ") ",
     "delete_cmd_prefix": "rm(",
     "library": "var_list.r",
     "varRefreshCmd": "cat(var_dic_list()) "
    }
   },
   "types_to_exclude": [
    "module",
    "function",
    "builtin_function_or_method",
    "instance",
    "_Feature"
   ],
   "window_display": false
  }
 },
 "nbformat": 4,
 "nbformat_minor": 5
}
